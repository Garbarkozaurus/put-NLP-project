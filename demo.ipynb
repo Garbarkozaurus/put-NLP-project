{
 "cells": [
  {
   "cell_type": "markdown",
   "metadata": {},
   "source": [
    "### TODO:\n",
    "- possible feedback loop?\n",
    " - take one mask --> predict word --> find best --> paste into the original sentence --> repeat\n",
    " - what if X words are similarily close/good to substitute?\n",
    " - different measures?\n",
    " - better library for `levenshtein`\n",
    "The model is really sensitive in regards of the number of [MASK] --> less context"
   ]
  },
  {
   "cell_type": "code",
   "execution_count": 14,
   "metadata": {},
   "outputs": [],
   "source": [
    "from helpers import *\n",
    "import numpy as np"
   ]
  },
  {
   "cell_type": "code",
   "execution_count": 12,
   "metadata": {},
   "outputs": [
    {
     "name": "stdout",
     "output_type": "stream",
     "text": [
      "Input sentence:\t Hello therer, I am yur suprvisour.\n",
      "Maksed sentence: Hello [MASK], I am [MASK] [MASK].\n"
     ]
    }
   ],
   "source": [
    "input_sentence = \"Hello therer, I am yur suprvisour.\"\n",
    "masked_sentence, misspelled_words = mask_sentence(input_sentence)\n",
    "\n",
    "print(\"Input sentence:\\t\", input_sentence)\n",
    "print(\"Maksed sentence:\", masked_sentence)"
   ]
  },
  {
   "cell_type": "code",
   "execution_count": 13,
   "metadata": {},
   "outputs": [
    {
     "name": "stderr",
     "output_type": "stream",
     "text": [
      "Some weights of the model checkpoint at bert-base-uncased were not used when initializing BertForMaskedLM: ['cls.seq_relationship.bias', 'cls.seq_relationship.weight']\n",
      "- This IS expected if you are initializing BertForMaskedLM from the checkpoint of a model trained on another task or with another architecture (e.g. initializing a BertForSequenceClassification model from a BertForPreTraining model).\n",
      "- This IS NOT expected if you are initializing BertForMaskedLM from the checkpoint of a model that you expect to be exactly identical (initializing a BertForSequenceClassification model from a BertForSequenceClassification model).\n"
     ]
    },
    {
     "name": "stdout",
     "output_type": "stream",
     "text": [
      "Better score found:  5 --> sir\n",
      "Better score found:  4 --> hello\n",
      "Better score found:  1 --> there\n",
      "therer  -->  (1, '')\n",
      "Better score found:  3 --> the\n",
      "Better score found:  2 --> mr\n",
      "Better score found:  1 --> your\n",
      "yur  -->  (1, '')\n",
      "Better score found:  9 --> here\n",
      "Better score found:  8 --> you\n",
      "suprvisour  -->  (8, '')\n"
     ]
    }
   ],
   "source": [
    "best_words = choose_words(masked_sentence)\n",
    "\n",
    "for misspelled, best_words in zip(misspelled_words, best_words):\n",
    "  print(misspelled, \" --> \",  best_word_from_list(misspelled, best_words))\n",
    "    \n",
    "    "
   ]
  },
  {
   "cell_type": "code",
   "execution_count": 4,
   "metadata": {},
   "outputs": [],
   "source": [
    "#TODO: possible different distance\n",
    "# Imports\n",
    "from scipy.spatial import distance\n",
    "\n",
    "# Load the spacy vocabulary\n",
    "nlp = spacy.load(\"en_core_web_lg\")\n",
    "\n",
    "# Format the input vector for use in the distance function\n",
    "# In this case we will artificially create a word vector from a real word (\"frog\")\n",
    "# but any derived word vector could be used\n",
    "input_word = \"frog\"\n",
    "p = np.array([nlp.vocab[input_word].vector])\n",
    "\n",
    "# Format the vocabulary for use in the distance function\n",
    "ids = [x for x in nlp.vocab.vectors.keys()]\n",
    "vectors = [nlp.vocab.vectors[x] for x in ids]\n",
    "vectors = np.array(vectors)\n",
    "\n",
    "# *** Find the closest word below ***\n",
    "closest_index = distance.cdist(p, vectors).argmin()\n",
    "word_id = ids[closest_index]\n",
    "output_word = nlp.vocab[word_id].text"
   ]
  }
 ],
 "metadata": {
  "interpreter": {
   "hash": "e7370f93d1d0cde622a1f8e1c04877d8463912d04d973331ad4851f04de6915a"
  },
  "kernelspec": {
   "display_name": "Python 3.10.10 64-bit",
   "language": "python",
   "name": "python3"
  },
  "language_info": {
   "codemirror_mode": {
    "name": "ipython",
    "version": 3
   },
   "file_extension": ".py",
   "mimetype": "text/x-python",
   "name": "python",
   "nbconvert_exporter": "python",
   "pygments_lexer": "ipython3",
   "version": "3.10.10"
  },
  "orig_nbformat": 4
 },
 "nbformat": 4,
 "nbformat_minor": 2
}
